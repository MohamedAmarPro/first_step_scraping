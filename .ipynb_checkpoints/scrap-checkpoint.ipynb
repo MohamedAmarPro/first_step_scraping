{
 "cells": [
  {
   "cell_type": "code",
   "execution_count": 2,
   "id": "80f97a78",
   "metadata": {},
   "outputs": [
    {
     "name": "stdout",
     "output_type": "stream",
     "text": [
      "                                               blague       note\n",
      "0   Les ennemis des amis de Chuck Norris sont ses ...  (8.90/10)\n",
      "1   Un jour Chuck Norris a eu un zero en latin, de...  (8.43/10)\n",
      "2   L'avenir se demande parfois ce que Chuck Norri...  (8.43/10)\n",
      "3   Chuck Norris ne sait pas à quoi ressemble Nico...  (8.42/10)\n",
      "4                                                      (8.40/10)\n",
      "5   Chuck Norris n'a pas de père. On ne nique pas ...  (8.34/10)\n",
      "6   Chuck Norris ne ment pas, c'est la vérité qui ...  (8.33/10)\n",
      "7   Les samouraïs tuent des mouches avec leurs sab...  (8.32/10)\n",
      "8   Cherchez l'intrus : Un rouge-gorge, un pigeon,...  (8.31/10)\n",
      "9   Les ennemis de Chuck Norris lui disent souvent...  (8.31/10)\n",
      "10       Chuck Norris peut ressusciter un angle mort.  (8.30/10)\n",
      "11  Chuck Norris est le seul homme à posséder une ...  (8.29/10)\n",
      "12  Un jour, les PowerRangers ont rencontré Chuck ...  (8.29/10)\n",
      "13  Chuck Norris ne se masturbe jamais. Chuck Norr...  (8.29/10)\n",
      "14  Chuck Norris n'est pas égal à lui-même, il est...  (8.29/10)\n",
      "15  Quand Chuck Norris lance une pièce, elle fait ...  (8.28/10)\n",
      "16            Chuck Norris peut se souvenir du futur.  (8.27/10)\n",
      "17  Hercule est un demi-dieu, Dieu est un demi-Chu...  (8.27/10)\n",
      "18  Un jour, Chuck Norris a courru si vite qu'il a...  (8.26/10)\n",
      "19  Un jour un mec a refuser de filer une clope à ...  (8.26/10)\n"
     ]
    }
   ],
   "source": [
    "import requests\n",
    "from bs4 import BeautifulSoup\n",
    "import pandas as pd\n",
    "\n",
    "\n",
    "navigator = 'Mozilla/5.0 (Macintosh; Intel Mac OS X 10_10_1)'\n",
    "\n",
    "url = \"http://www.chucknorrisfacts.fr/facts/top/1\"\n",
    "\n",
    "html = requests.get(url, headers={'User-Agent': navigator})\n",
    "\n",
    "soup = BeautifulSoup(html.text, 'html.parser')\n",
    "\n",
    "\n",
    "blagues = soup.findAll('p')\n",
    "blague8 = blagues[7].get_text()\n",
    "\n",
    "notes = soup.findAll('span')\n",
    "note8 = notes[7].get_text()\n",
    "\n",
    "\n",
    "blagues_et_notes = {}\n",
    "\n",
    "\n",
    "for i in range(20):\n",
    "  \n",
    "    blague = blagues[i].get_text()\n",
    "\n",
    " \n",
    "    note = notes[i].get_text()\n",
    "\n",
    "\n",
    "    blagues_et_notes[blague] = note\n",
    "\n",
    "\n",
    "\n",
    "df = pd.DataFrame(list(blagues_et_notes.items()), columns=[\"blague\", \"note\"])\n",
    "\n",
    "print(df)\n",
    "\n"
   ]
  },
  {
   "cell_type": "code",
   "execution_count": null,
   "id": "1d271cdd",
   "metadata": {},
   "outputs": [],
   "source": []
  }
 ],
 "metadata": {
  "kernelspec": {
   "display_name": "Python 3 (ipykernel)",
   "language": "python",
   "name": "python3"
  },
  "language_info": {
   "codemirror_mode": {
    "name": "ipython",
    "version": 3
   },
   "file_extension": ".py",
   "mimetype": "text/x-python",
   "name": "python",
   "nbconvert_exporter": "python",
   "pygments_lexer": "ipython3",
   "version": "3.11.3"
  }
 },
 "nbformat": 4,
 "nbformat_minor": 5
}
